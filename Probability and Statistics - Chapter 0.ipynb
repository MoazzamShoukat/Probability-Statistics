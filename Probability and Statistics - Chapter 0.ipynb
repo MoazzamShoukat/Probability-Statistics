{
 "cells": [
  {
   "cell_type": "markdown",
   "metadata": {},
   "source": [
    "# Introduction to Statistics and Data Analysis"
   ]
  },
  {
   "cell_type": "markdown",
   "metadata": {},
   "source": [
    "## Excercise Implementation"
   ]
  },
  {
   "cell_type": "code",
   "execution_count": 29,
   "metadata": {},
   "outputs": [],
   "source": [
    "import numpy as np\n",
    "import pandas as pd\n",
    "import matplotlib.pyplot as plt\n",
    "from scipy import stats\n"
   ]
  },
  {
   "cell_type": "markdown",
   "metadata": {},
   "source": [
    "## Question 1"
   ]
  },
  {
   "cell_type": "code",
   "execution_count": 2,
   "metadata": {},
   "outputs": [],
   "source": [
    "a = np.array([3.4, 2.5, 4.8, 2.9, 3.6, 2.8, 3.3, 5.6, 3.7, 2.8, 4.4, 4.0, 5.2, 3.0, 4.8])\n",
    "a = np.sort(a)"
   ]
  },
  {
   "cell_type": "code",
   "execution_count": 10,
   "metadata": {},
   "outputs": [
    {
     "name": "stdout",
     "output_type": "stream",
     "text": [
      "Sample Set : [2.5 2.8 2.8 2.9 3.  3.3 3.4 3.6 3.7 4.  4.4 4.8 4.8 5.2 5.6]\n",
      "Sample size : 15\n",
      "Mean : 3.7866666666666666\n",
      "Median : 3.6\n",
      "Trimmed Mean : 3.677777777777778\n"
     ]
    }
   ],
   "source": [
    "print (\"Sample Set : \" + str(a))\n",
    "print (\"Sample size : \" + str(np.size(a)))\n",
    "print (\"Mean : \" + str(np.mean(a)))\n",
    "print (\"Median : \" + str(np.median(a)))\n",
    "print (\"Trimmed Mean : \" + str(stats.trim_mean(a, 0.2)))"
   ]
  },
  {
   "cell_type": "markdown",
   "metadata": {},
   "source": [
    "## Question 2"
   ]
  },
  {
   "cell_type": "code",
   "execution_count": 4,
   "metadata": {},
   "outputs": [],
   "source": [
    "b = np.array([18.71, 21.41, 20.72, 21.81, 19.29, 22.43, 20.17, 23.71, 19.44, 20.50, 18.92, 20.33, 23.00, 22.85, 19.25, 21.77, 22.11, 19.77, 18.04, 21.12])\n",
    "b = np.sort(b)"
   ]
  },
  {
   "cell_type": "code",
   "execution_count": 5,
   "metadata": {},
   "outputs": [
    {
     "name": "stdout",
     "output_type": "stream",
     "text": [
      "Array : [18.04 18.71 18.92 19.25 19.29 19.44 19.77 20.17 20.33 20.5  20.72 21.12\n",
      " 21.41 21.77 21.81 22.11 22.43 22.85 23.   23.71]\n",
      "Sample size : 20\n",
      "Mean : 20.767500000000002\n",
      "Median : 20.61\n",
      "Trimmed Median : 20.743125\n",
      "Data Type : float64\n"
     ]
    }
   ],
   "source": [
    "print (\"Array : \" + str(b))\n",
    "print (\"Sample size : \" + str(np.size(b)))\n",
    "print (\"Mean : \" + str(np.mean(b)))\n",
    "print (\"Median : \" + str(np.median(b)))\n",
    "print (\"Trimmed Median : \" + str(stats.trim_mean(b, 0.1)))\n",
    "print (\"Data Type : \" + str(b.dtype))\n"
   ]
  },
  {
   "cell_type": "markdown",
   "metadata": {},
   "source": [
    "## Question 3"
   ]
  },
  {
   "cell_type": "code",
   "execution_count": 11,
   "metadata": {},
   "outputs": [],
   "source": [
    "no_aging = np.array([227, 222, 218, 217, 225, 218, 216, 229, 228, 221])\n",
    "aging = np.array([219, 214, 215, 211, 209, 218, 203, 204, 201, 205])\n",
    "no_aging = np.sort(no_aging)\n",
    "aging = np.sort(aging)"
   ]
  },
  {
   "cell_type": "code",
   "execution_count": 16,
   "metadata": {
    "scrolled": false
   },
   "outputs": [
    {
     "name": "stdout",
     "output_type": "stream",
     "text": [
      "No Aging\n",
      "Array : [216 217 218 218 221 222 225 227 228 229]\n",
      "Sample size : 10\n",
      "Mean : 222.1\n",
      "Median : 221.5\n",
      "--------------\n",
      "Aging\n",
      "Array : [201 203 204 205 209 211 214 215 218 219]\n",
      "Sample size : 10\n",
      "Mean : 209.9\n",
      "Median : 210.0\n",
      "Trimmed Median : 209.875\n"
     ]
    }
   ],
   "source": [
    "print (\"No Aging\")\n",
    "print (\"Array : \" + str(no_aging))\n",
    "print (\"Sample size : \" + str(np.size(no_aging)))\n",
    "print (\"Mean : \" + str(np.mean(no_aging)))\n",
    "print (\"Median : \" + str(np.median(no_aging)))\n",
    "print (\"--------------\")\n",
    "print (\"Aging\")\n",
    "print (\"Array : \" + str(aging))\n",
    "print (\"Sample size : \" + str(np.size(aging)))\n",
    "print (\"Mean : \" + str(np.mean(aging)))\n",
    "print (\"Median : \" + str(np.median(aging)))\n",
    "print (\"Trimmed Median : \" + str(stats.trim_mean(aging, 0.1)))\n"
   ]
  },
  {
   "cell_type": "markdown",
   "metadata": {},
   "source": [
    "## Question 4"
   ]
  },
  {
   "cell_type": "code",
   "execution_count": 30,
   "metadata": {},
   "outputs": [],
   "source": [
    "comp_A = np.array([9.3, 8.8, 6.8, 8.7, 8.5, 6.7, 8.0, 6.5, 9.2, 7.0])\n",
    "comp_B = np.array([11.0, 9.8, 9.9, 10.2, 10.1, 9.7, 11.0, 11.1, 10.2, 9.6])\n",
    "comp_A = np.sort(comp_A)\n",
    "comp_B = np.sort(comp_B)"
   ]
  },
  {
   "cell_type": "code",
   "execution_count": 31,
   "metadata": {},
   "outputs": [
    {
     "name": "stdout",
     "output_type": "stream",
     "text": [
      "Company A\n",
      "Array : [6.5 6.7 6.8 7.  8.  8.5 8.7 8.8 9.2 9.3]\n",
      "Sample size : 10\n",
      "Mean : 7.95\n",
      "Median : 8.25\n",
      "--------------\n",
      "Company B\n",
      "Array : [ 9.6  9.7  9.8  9.9 10.1 10.2 10.2 11.  11.  11.1]\n",
      "Sample size : 10\n",
      "Mean : 10.26\n",
      "Median : 10.149999999999999\n"
     ]
    }
   ],
   "source": [
    "print (\"Company A\")\n",
    "print (\"Array : \" + str(comp_A) + \"\\n\" +\n",
    "       \"Sample size : \" + str(np.size(comp_A)) + \"\\n\" + \n",
    "       \"Mean : \" + str(np.mean(comp_A)) + \"\\n\" + \n",
    "       \"Median : \" + str(np.median(comp_A)))\n",
    "print (\"--------------\")\n",
    "print (\"Company B\")\n",
    "print (\"Array : \" + str(comp_B) + \"\\n\" +\n",
    "       \"Sample size : \" + str(np.size(comp_B)) + \"\\n\" + \n",
    "       \"Mean : \" + str(np.mean(comp_B)) + \"\\n\" + \n",
    "       \"Median : \" + str(np.median(comp_B)))\n"
   ]
  },
  {
   "cell_type": "markdown",
   "metadata": {},
   "source": [
    "## Question 5"
   ]
  },
  {
   "cell_type": "code",
   "execution_count": 36,
   "metadata": {},
   "outputs": [],
   "source": [
    "control_group = np.array([7, 3, -4, 14, 2, 5, 22, -7, 9, 5])\n",
    "treatment_group = np.array([-6, 5, 9, 4, 4, 12, 37, 5, 3, 3])\n",
    "control_group = np.sort(control_group)\n",
    "treatment_group = np.sort(treatment_group)"
   ]
  },
  {
   "cell_type": "code",
   "execution_count": 39,
   "metadata": {},
   "outputs": [
    {
     "name": "stdout",
     "output_type": "stream",
     "text": [
      "Control Group\n",
      "Array : [-7 -4  2  3  5  5  7  9 14 22]\n",
      "Sample size : 10\n",
      "Mean : 5.6\n",
      "Median : 5.0\n",
      "Trimmed Mean (10%) : 5.125\n",
      "--------------\n",
      "Company B\n",
      "Array : [-6  3  3  4  4  5  5  9 12 37]\n",
      "Sample size : 10\n",
      "Mean : 7.6\n",
      "Median : 4.5\n",
      "Trimmed Mean (10%) : 5.625\n"
     ]
    }
   ],
   "source": [
    "print (\"Control Group\")\n",
    "print (\"Array : \" + str(control_group) + \"\\n\" +\n",
    "       \"Sample size : \" + str(np.size(control_group)) + \"\\n\" + \n",
    "       \"Mean : \" + str(np.mean(control_group)) + \"\\n\" + \n",
    "       \"Median : \" + str(np.median(control_group)) + \"\\n\" + \n",
    "       \"Trimmed Mean (10%) : \" + str(stats.trim_mean(control_group, 0.1)))\n",
    "print (\"--------------\")\n",
    "print (\"Company B\")\n",
    "print (\"Array : \" + str(treatment_group) + \"\\n\" +\n",
    "       \"Sample size : \" + str(np.size(treatment_group)) + \"\\n\" + \n",
    "       \"Mean : \" + str(np.mean(treatment_group)) + \"\\n\" + \n",
    "       \"Median : \" + str(np.median(treatment_group)) + \"\\n\" + \n",
    "       \"Trimmed Mean (10%) : \" + str(stats.trim_mean(treatment_group, 0.1)))"
   ]
  },
  {
   "cell_type": "markdown",
   "metadata": {},
   "source": [
    "## Question 6"
   ]
  },
  {
   "cell_type": "code",
   "execution_count": 42,
   "metadata": {},
   "outputs": [],
   "source": [
    "at_20C = np.array([2.07, 2.14, 2.22, 2.03, 2.21, 2.03, 2.05, 2.18, 2.09, 2.14, 2.11, 2.02])\n",
    "at_45C = np.array([2.52, 2.15, 2.49, 2.03, 2.37, 2.05, 1.99, 2.42, 2.08, 2.42, 2.29, 2.01])\n",
    "\n",
    "at_20C = np.sort(at_20C)\n",
    "at_45C = np.sort(at_45C)"
   ]
  },
  {
   "cell_type": "code",
   "execution_count": 44,
   "metadata": {},
   "outputs": [
    {
     "name": "stdout",
     "output_type": "stream",
     "text": [
      "At 20 C\n",
      "Array : [2.02 2.03 2.03 2.05 2.07 2.09 2.11 2.14 2.14 2.18 2.21 2.22]\n",
      "Sample size : 12\n",
      "Mean : 2.1075\n",
      "Median : 2.0999999999999996\n",
      "Trimmed Mean (10%) : 2.105\n",
      "--------------\n",
      "At 45 C\n",
      "Array : [1.99 2.01 2.03 2.05 2.08 2.15 2.29 2.37 2.42 2.42 2.49 2.52]\n",
      "Sample size : 12\n",
      "Mean : 2.2350000000000003\n",
      "Median : 2.2199999999999998\n",
      "Trimmed Mean (10%) : 2.2310000000000003\n"
     ]
    }
   ],
   "source": [
    "print (\"At 20 C\")\n",
    "print (\"Array : \" + str(at_20C) + \"\\n\" +\n",
    "       \"Sample size : \" + str(np.size(at_20C)) + \"\\n\" + \n",
    "       \"Mean : \" + str(np.mean(at_20C)) + \"\\n\" + \n",
    "       \"Median : \" + str(np.median(at_20C)) + \"\\n\" + \n",
    "       \"Trimmed Mean (10%) : \" + str(stats.trim_mean(at_20C, 0.1)))\n",
    "print (\"--------------\")\n",
    "print (\"At 45 C\")\n",
    "print (\"Array : \" + str(at_45C) + \"\\n\" +\n",
    "       \"Sample size : \" + str(np.size(at_45C)) + \"\\n\" + \n",
    "       \"Mean : \" + str(np.mean(at_45C)) + \"\\n\" + \n",
    "       \"Median : \" + str(np.median(at_45C)) + \"\\n\" + \n",
    "       \"Trimmed Mean (10%) : \" + str(stats.trim_mean(at_45C, 0.1)))"
   ]
  },
  {
   "cell_type": "markdown",
   "metadata": {},
   "source": [
    "## Question 7"
   ]
  },
  {
   "cell_type": "code",
   "execution_count": 46,
   "metadata": {},
   "outputs": [],
   "source": [
    "data = np.array([3.4, 2.5, 4.8, 2.9, 3.6, 2.8, 3.3, 5.6, 3.7, 2.8, 4.4, 4.0, 5.2, 3.0, 4.8])\n",
    "data = np.sort(data)"
   ]
  },
  {
   "cell_type": "code",
   "execution_count": 75,
   "metadata": {},
   "outputs": [],
   "source": [
    "mean = np.mean(data)\n",
    "step_1 = data - mean\n",
    "square = np.square(step_1)\n",
    "sum_data = np.sum(square)\n",
    "variance = (sum_data)/(len(data) -1)\n",
    "std = np.sqrt(variance)\n",
    "f_variance = np.var(data)\n",
    "f_std = np.std(data)"
   ]
  },
  {
   "cell_type": "code",
   "execution_count": 76,
   "metadata": {},
   "outputs": [
    {
     "name": "stdout",
     "output_type": "stream",
     "text": [
      "Manual Calcultions with n-1\n",
      "Variance : 0.9426666666666667\n",
      "Standard Deviation : 0.9709102258533827\n",
      "---------------------------\n",
      "---------------------------\n",
      "Formula Calcultions with N in denominator\n",
      "Variance : 0.8798222222222222\n",
      "Standard Deviation : 0.9379883913046164\n"
     ]
    }
   ],
   "source": [
    "print (\"Manual Calcultions with n-1\")\n",
    "print (\"Variance : \" + str(variance) + \"\\n\" + \"Standard Deviation : \" + str(std))\n",
    "print (\"---------------------------\" + \"\\n\" + \"---------------------------\")\n",
    "print (\"Formula Calcultions with N in denominator\")\n",
    "print (\"Variance : \" + str(f_variance) + \"\\n\" + \"Standard Deviation : \" + str(f_std))"
   ]
  },
  {
   "cell_type": "markdown",
   "metadata": {},
   "source": [
    "## Question 8"
   ]
  },
  {
   "cell_type": "code",
   "execution_count": 73,
   "metadata": {},
   "outputs": [],
   "source": [
    "water_data = np.array([18.71, 21.41, 20.72, 21.81, 19.29, 22.43, 20.17, 23.71, 19.44, 20.50, 18.92, 20.33, 23.00, 22.85, 19.25, 21.77, 22.11, 19.77, 18.04, 21.12])\n",
    "water_data = np.sort(water_data)"
   ]
  },
  {
   "cell_type": "code",
   "execution_count": 77,
   "metadata": {},
   "outputs": [],
   "source": [
    "mean = np.mean(water_data)\n",
    "step_1 = water_data - mean\n",
    "square = np.square(step_1)\n",
    "sum_data = np.sum(square)\n",
    "variance = (sum_data)/(len(water_data) - 1)\n",
    "std = np.sqrt(variance)\n",
    "f_variance = np.var(water_data)\n",
    "f_std = np.std(water_data)"
   ]
  },
  {
   "cell_type": "code",
   "execution_count": 78,
   "metadata": {},
   "outputs": [
    {
     "name": "stdout",
     "output_type": "stream",
     "text": [
      "Manual Calcultions with n-1\n",
      "Variance : 2.532914473684211\n",
      "Standard Deviation : 1.5915132653183293\n",
      "---------------------------\n",
      "---------------------------\n",
      "Formula Calcultions with N in denominator\n",
      "Variance : 2.40626875\n",
      "Standard Deviation : 1.5512152494093139\n"
     ]
    }
   ],
   "source": [
    "print (\"Manual Calcultions with n-1\")\n",
    "print (\"Variance : \" + str(variance) + \"\\n\" + \"Standard Deviation : \" + str(std))\n",
    "print (\"---------------------------\" + \"\\n\" + \"---------------------------\")\n",
    "print (\"Formula Calcultions with N in denominator\")\n",
    "print (\"Variance : \" + str(f_variance) + \"\\n\" + \"Standard Deviation : \" + str(f_std))"
   ]
  },
  {
   "cell_type": "markdown",
   "metadata": {},
   "source": [
    "## Question 9"
   ]
  },
  {
   "cell_type": "code",
   "execution_count": 79,
   "metadata": {},
   "outputs": [],
   "source": [
    "no_aging1 = np.array([227, 222, 218, 217, 225, 218, 216, 229, 228, 221])\n",
    "aging1 = np.array([219, 214, 215, 211, 209, 218, 203, 204, 201, 205])\n",
    "no_aging1 = np.sort(no_aging)\n",
    "aging1 = np.sort(aging)"
   ]
  },
  {
   "cell_type": "code",
   "execution_count": 91,
   "metadata": {},
   "outputs": [],
   "source": [
    "# For Non Aging\n",
    "mean = np.mean(no_aging1)\n",
    "step_1 = no_aging1 - mean\n",
    "square = np.square(step_1)\n",
    "sum_data = np.sum(square)\n",
    "variance = (sum_data)/(len(no_aging1) - 1)\n",
    "std = np.sqrt(variance)\n",
    "f_variance = np.var(no_aging1)\n",
    "f_std = np.std(no_aging1)\n",
    "\n",
    "# For Aging\n",
    "mean_aging = np.mean(aging1)\n",
    "step_1_aging = aging1 - mean_aging\n",
    "square_aging = np.square(step_1_aging)\n",
    "sum_data_aging = np.sum(square_aging)\n",
    "variance_aging = (sum_data_aging)/(len(aging1) - 1)\n",
    "std_aging = np.sqrt(variance_aging)\n",
    "f_variance_aging = np.var(aging1)\n",
    "f_std_aging = np.std(aging1)"
   ]
  },
  {
   "cell_type": "code",
   "execution_count": 93,
   "metadata": {},
   "outputs": [
    {
     "name": "stdout",
     "output_type": "stream",
     "text": [
      "For Non Aging\n",
      "Manual Calcultions with n-1\n",
      "Variance : 23.65555555555555\n",
      "Standard Deviation : 4.863697724525605\n",
      "---------------------------\n",
      "Formula Calcultions with N in denominator\n",
      "Variance : 21.29\n",
      "Standard Deviation : 4.6141087980237305\n",
      "---------------------------\n",
      "---------------------------\n",
      "For Non Aging\n",
      "Manual Calcultions with n-1\n",
      "Variance : 42.1\n",
      "Standard Deviation : 6.488451279003334\n",
      "---------------------------\n",
      "Formula Calcultions with N in denominator\n",
      "Variance : 37.89\n",
      "Standard Deviation : 6.155485358604957\n"
     ]
    }
   ],
   "source": [
    "print (\"For Non Aging\" + \"\\n\" + \"Manual Calcultions with n-1\")\n",
    "print (\"Variance : \" + str(variance) + \"\\n\" + \"Standard Deviation : \" + str(std))\n",
    "print (\"---------------------------\")\n",
    "print (\"Formula Calcultions with N in denominator\")\n",
    "print (\"Variance : \" + str(f_variance) + \"\\n\" + \"Standard Deviation : \" + str(f_std))\n",
    "print (\"---------------------------\" + \"\\n\" + \"---------------------------\")\n",
    "print (\"For Non Aging\" + \"\\n\" + \"Manual Calcultions with n-1\")\n",
    "print (\"Variance : \" + str(variance_aging) + \"\\n\" + \"Standard Deviation : \" + str(std_aging))\n",
    "print (\"---------------------------\")\n",
    "print (\"Formula Calcultions with N in denominator\")\n",
    "print (\"Variance : \" + str(f_variance_aging) + \"\\n\" + \"Standard Deviation : \" + str(f_std_aging))"
   ]
  },
  {
   "cell_type": "code",
   "execution_count": null,
   "metadata": {},
   "outputs": [],
   "source": []
  }
 ],
 "metadata": {
  "kernelspec": {
   "display_name": "Python 3",
   "language": "python",
   "name": "python3"
  },
  "language_info": {
   "codemirror_mode": {
    "name": "ipython",
    "version": 3
   },
   "file_extension": ".py",
   "mimetype": "text/x-python",
   "name": "python",
   "nbconvert_exporter": "python",
   "pygments_lexer": "ipython3",
   "version": "3.7.9"
  }
 },
 "nbformat": 4,
 "nbformat_minor": 4
}
